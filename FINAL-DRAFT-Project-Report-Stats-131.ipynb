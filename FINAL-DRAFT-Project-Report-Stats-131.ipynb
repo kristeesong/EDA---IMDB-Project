{
 "cells": [
  {
   "cell_type": "markdown",
   "metadata": {},
   "source": [
    "# Stats 131 Project Report: Movies (Python n' Chill)\n",
    "# Joy Harjanto, Jennifer Thorburn, Jordan Uyeki, Kristee Song"
   ]
  },
  {
   "cell_type": "markdown",
   "metadata": {},
   "source": [
    "## Background Information"
   ]
  },
  {
   "cell_type": "markdown",
   "metadata": {},
   "source": []
  },
  {
   "cell_type": "markdown",
   "metadata": {},
   "source": [
    "We analyzed the movies dataset from kaggle, which can be found here: https://www.kaggle.com/rounakbanik/the-movies-dataset. "
   ]
  },
  {
   "cell_type": "markdown",
   "metadata": {},
   "source": [
    "## Exploratory Analysis"
   ]
  },
  {
   "cell_type": "code",
   "execution_count": 3,
   "metadata": {},
   "outputs": [],
   "source": [
    "import pandas as pd\n",
    "import numpy as np\n",
    "import matplotlib.pyplot as plt\n",
    "import seaborn as sns"
   ]
  },
  {
   "cell_type": "code",
   "execution_count": 32,
   "metadata": {},
   "outputs": [
    {
     "name": "stderr",
     "output_type": "stream",
     "text": [
      "/anaconda3/lib/python3.6/site-packages/IPython/core/interactiveshell.py:2728: DtypeWarning: Columns (10) have mixed types. Specify dtype option on import or set low_memory=False.\n",
      "  interactivity=interactivity, compiler=compiler, result=result)\n"
     ]
    },
    {
     "data": {
      "text/html": [
       "<div>\n",
       "<style scoped>\n",
       "    .dataframe tbody tr th:only-of-type {\n",
       "        vertical-align: middle;\n",
       "    }\n",
       "\n",
       "    .dataframe tbody tr th {\n",
       "        vertical-align: top;\n",
       "    }\n",
       "\n",
       "    .dataframe thead th {\n",
       "        text-align: right;\n",
       "    }\n",
       "</style>\n",
       "<table border=\"1\" class=\"dataframe\">\n",
       "  <thead>\n",
       "    <tr style=\"text-align: right;\">\n",
       "      <th></th>\n",
       "      <th>adult</th>\n",
       "      <th>belongs_to_collection</th>\n",
       "      <th>budget</th>\n",
       "      <th>genres</th>\n",
       "      <th>homepage</th>\n",
       "      <th>id</th>\n",
       "      <th>imdb_id</th>\n",
       "      <th>original_language</th>\n",
       "      <th>original_title</th>\n",
       "      <th>overview</th>\n",
       "      <th>...</th>\n",
       "      <th>release_date</th>\n",
       "      <th>revenue</th>\n",
       "      <th>runtime</th>\n",
       "      <th>spoken_languages</th>\n",
       "      <th>status</th>\n",
       "      <th>tagline</th>\n",
       "      <th>title</th>\n",
       "      <th>video</th>\n",
       "      <th>vote_average</th>\n",
       "      <th>vote_count</th>\n",
       "    </tr>\n",
       "  </thead>\n",
       "  <tbody>\n",
       "    <tr>\n",
       "      <th>0</th>\n",
       "      <td>False</td>\n",
       "      <td>{'id': 10194, 'name': 'Toy Story Collection', ...</td>\n",
       "      <td>30000000</td>\n",
       "      <td>[{'id': 16, 'name': 'Animation'}, {'id': 35, '...</td>\n",
       "      <td>http://toystory.disney.com/toy-story</td>\n",
       "      <td>862</td>\n",
       "      <td>tt0114709</td>\n",
       "      <td>en</td>\n",
       "      <td>Toy Story</td>\n",
       "      <td>Led by Woody, Andy's toys live happily in his ...</td>\n",
       "      <td>...</td>\n",
       "      <td>1995-10-30</td>\n",
       "      <td>373554033.0</td>\n",
       "      <td>81.0</td>\n",
       "      <td>[{'iso_639_1': 'en', 'name': 'English'}]</td>\n",
       "      <td>Released</td>\n",
       "      <td>NaN</td>\n",
       "      <td>Toy Story</td>\n",
       "      <td>False</td>\n",
       "      <td>7.7</td>\n",
       "      <td>5415.0</td>\n",
       "    </tr>\n",
       "    <tr>\n",
       "      <th>1</th>\n",
       "      <td>False</td>\n",
       "      <td>NaN</td>\n",
       "      <td>65000000</td>\n",
       "      <td>[{'id': 12, 'name': 'Adventure'}, {'id': 14, '...</td>\n",
       "      <td>NaN</td>\n",
       "      <td>8844</td>\n",
       "      <td>tt0113497</td>\n",
       "      <td>en</td>\n",
       "      <td>Jumanji</td>\n",
       "      <td>When siblings Judy and Peter discover an encha...</td>\n",
       "      <td>...</td>\n",
       "      <td>1995-12-15</td>\n",
       "      <td>262797249.0</td>\n",
       "      <td>104.0</td>\n",
       "      <td>[{'iso_639_1': 'en', 'name': 'English'}, {'iso...</td>\n",
       "      <td>Released</td>\n",
       "      <td>Roll the dice and unleash the excitement!</td>\n",
       "      <td>Jumanji</td>\n",
       "      <td>False</td>\n",
       "      <td>6.9</td>\n",
       "      <td>2413.0</td>\n",
       "    </tr>\n",
       "    <tr>\n",
       "      <th>2</th>\n",
       "      <td>False</td>\n",
       "      <td>{'id': 119050, 'name': 'Grumpy Old Men Collect...</td>\n",
       "      <td>0</td>\n",
       "      <td>[{'id': 10749, 'name': 'Romance'}, {'id': 35, ...</td>\n",
       "      <td>NaN</td>\n",
       "      <td>15602</td>\n",
       "      <td>tt0113228</td>\n",
       "      <td>en</td>\n",
       "      <td>Grumpier Old Men</td>\n",
       "      <td>A family wedding reignites the ancient feud be...</td>\n",
       "      <td>...</td>\n",
       "      <td>1995-12-22</td>\n",
       "      <td>0.0</td>\n",
       "      <td>101.0</td>\n",
       "      <td>[{'iso_639_1': 'en', 'name': 'English'}]</td>\n",
       "      <td>Released</td>\n",
       "      <td>Still Yelling. Still Fighting. Still Ready for...</td>\n",
       "      <td>Grumpier Old Men</td>\n",
       "      <td>False</td>\n",
       "      <td>6.5</td>\n",
       "      <td>92.0</td>\n",
       "    </tr>\n",
       "    <tr>\n",
       "      <th>3</th>\n",
       "      <td>False</td>\n",
       "      <td>NaN</td>\n",
       "      <td>16000000</td>\n",
       "      <td>[{'id': 35, 'name': 'Comedy'}, {'id': 18, 'nam...</td>\n",
       "      <td>NaN</td>\n",
       "      <td>31357</td>\n",
       "      <td>tt0114885</td>\n",
       "      <td>en</td>\n",
       "      <td>Waiting to Exhale</td>\n",
       "      <td>Cheated on, mistreated and stepped on, the wom...</td>\n",
       "      <td>...</td>\n",
       "      <td>1995-12-22</td>\n",
       "      <td>81452156.0</td>\n",
       "      <td>127.0</td>\n",
       "      <td>[{'iso_639_1': 'en', 'name': 'English'}]</td>\n",
       "      <td>Released</td>\n",
       "      <td>Friends are the people who let you be yourself...</td>\n",
       "      <td>Waiting to Exhale</td>\n",
       "      <td>False</td>\n",
       "      <td>6.1</td>\n",
       "      <td>34.0</td>\n",
       "    </tr>\n",
       "    <tr>\n",
       "      <th>4</th>\n",
       "      <td>False</td>\n",
       "      <td>{'id': 96871, 'name': 'Father of the Bride Col...</td>\n",
       "      <td>0</td>\n",
       "      <td>[{'id': 35, 'name': 'Comedy'}]</td>\n",
       "      <td>NaN</td>\n",
       "      <td>11862</td>\n",
       "      <td>tt0113041</td>\n",
       "      <td>en</td>\n",
       "      <td>Father of the Bride Part II</td>\n",
       "      <td>Just when George Banks has recovered from his ...</td>\n",
       "      <td>...</td>\n",
       "      <td>1995-02-10</td>\n",
       "      <td>76578911.0</td>\n",
       "      <td>106.0</td>\n",
       "      <td>[{'iso_639_1': 'en', 'name': 'English'}]</td>\n",
       "      <td>Released</td>\n",
       "      <td>Just When His World Is Back To Normal... He's ...</td>\n",
       "      <td>Father of the Bride Part II</td>\n",
       "      <td>False</td>\n",
       "      <td>5.7</td>\n",
       "      <td>173.0</td>\n",
       "    </tr>\n",
       "  </tbody>\n",
       "</table>\n",
       "<p>5 rows × 24 columns</p>\n",
       "</div>"
      ],
      "text/plain": [
       "   adult                              belongs_to_collection    budget  \\\n",
       "0  False  {'id': 10194, 'name': 'Toy Story Collection', ...  30000000   \n",
       "1  False                                                NaN  65000000   \n",
       "2  False  {'id': 119050, 'name': 'Grumpy Old Men Collect...         0   \n",
       "3  False                                                NaN  16000000   \n",
       "4  False  {'id': 96871, 'name': 'Father of the Bride Col...         0   \n",
       "\n",
       "                                              genres  \\\n",
       "0  [{'id': 16, 'name': 'Animation'}, {'id': 35, '...   \n",
       "1  [{'id': 12, 'name': 'Adventure'}, {'id': 14, '...   \n",
       "2  [{'id': 10749, 'name': 'Romance'}, {'id': 35, ...   \n",
       "3  [{'id': 35, 'name': 'Comedy'}, {'id': 18, 'nam...   \n",
       "4                     [{'id': 35, 'name': 'Comedy'}]   \n",
       "\n",
       "                               homepage     id    imdb_id original_language  \\\n",
       "0  http://toystory.disney.com/toy-story    862  tt0114709                en   \n",
       "1                                   NaN   8844  tt0113497                en   \n",
       "2                                   NaN  15602  tt0113228                en   \n",
       "3                                   NaN  31357  tt0114885                en   \n",
       "4                                   NaN  11862  tt0113041                en   \n",
       "\n",
       "                original_title  \\\n",
       "0                    Toy Story   \n",
       "1                      Jumanji   \n",
       "2             Grumpier Old Men   \n",
       "3            Waiting to Exhale   \n",
       "4  Father of the Bride Part II   \n",
       "\n",
       "                                            overview    ...     release_date  \\\n",
       "0  Led by Woody, Andy's toys live happily in his ...    ...       1995-10-30   \n",
       "1  When siblings Judy and Peter discover an encha...    ...       1995-12-15   \n",
       "2  A family wedding reignites the ancient feud be...    ...       1995-12-22   \n",
       "3  Cheated on, mistreated and stepped on, the wom...    ...       1995-12-22   \n",
       "4  Just when George Banks has recovered from his ...    ...       1995-02-10   \n",
       "\n",
       "       revenue runtime                                   spoken_languages  \\\n",
       "0  373554033.0    81.0           [{'iso_639_1': 'en', 'name': 'English'}]   \n",
       "1  262797249.0   104.0  [{'iso_639_1': 'en', 'name': 'English'}, {'iso...   \n",
       "2          0.0   101.0           [{'iso_639_1': 'en', 'name': 'English'}]   \n",
       "3   81452156.0   127.0           [{'iso_639_1': 'en', 'name': 'English'}]   \n",
       "4   76578911.0   106.0           [{'iso_639_1': 'en', 'name': 'English'}]   \n",
       "\n",
       "     status                                            tagline  \\\n",
       "0  Released                                                NaN   \n",
       "1  Released          Roll the dice and unleash the excitement!   \n",
       "2  Released  Still Yelling. Still Fighting. Still Ready for...   \n",
       "3  Released  Friends are the people who let you be yourself...   \n",
       "4  Released  Just When His World Is Back To Normal... He's ...   \n",
       "\n",
       "                         title  video vote_average vote_count  \n",
       "0                    Toy Story  False          7.7     5415.0  \n",
       "1                      Jumanji  False          6.9     2413.0  \n",
       "2             Grumpier Old Men  False          6.5       92.0  \n",
       "3            Waiting to Exhale  False          6.1       34.0  \n",
       "4  Father of the Bride Part II  False          5.7      173.0  \n",
       "\n",
       "[5 rows x 24 columns]"
      ]
     },
     "execution_count": 32,
     "metadata": {},
     "output_type": "execute_result"
    }
   ],
   "source": [
    "movies = pd.read_csv(\"movies_metadata.csv\")\n",
    "movies.head()"
   ]
  },
  {
   "cell_type": "code",
   "execution_count": 9,
   "metadata": {},
   "outputs": [
    {
     "data": {
      "text/html": [
       "<div>\n",
       "<style scoped>\n",
       "    .dataframe tbody tr th:only-of-type {\n",
       "        vertical-align: middle;\n",
       "    }\n",
       "\n",
       "    .dataframe tbody tr th {\n",
       "        vertical-align: top;\n",
       "    }\n",
       "\n",
       "    .dataframe thead th {\n",
       "        text-align: right;\n",
       "    }\n",
       "</style>\n",
       "<table border=\"1\" class=\"dataframe\">\n",
       "  <thead>\n",
       "    <tr style=\"text-align: right;\">\n",
       "      <th></th>\n",
       "      <th>revenue</th>\n",
       "      <th>runtime</th>\n",
       "      <th>vote_average</th>\n",
       "      <th>vote_count</th>\n",
       "    </tr>\n",
       "  </thead>\n",
       "  <tbody>\n",
       "    <tr>\n",
       "      <th>count</th>\n",
       "      <td>4.546000e+04</td>\n",
       "      <td>45203.000000</td>\n",
       "      <td>45460.000000</td>\n",
       "      <td>45460.000000</td>\n",
       "    </tr>\n",
       "    <tr>\n",
       "      <th>mean</th>\n",
       "      <td>1.120935e+07</td>\n",
       "      <td>94.128199</td>\n",
       "      <td>5.618207</td>\n",
       "      <td>109.897338</td>\n",
       "    </tr>\n",
       "    <tr>\n",
       "      <th>std</th>\n",
       "      <td>6.433225e+07</td>\n",
       "      <td>38.407810</td>\n",
       "      <td>1.924216</td>\n",
       "      <td>491.310374</td>\n",
       "    </tr>\n",
       "    <tr>\n",
       "      <th>min</th>\n",
       "      <td>0.000000e+00</td>\n",
       "      <td>0.000000</td>\n",
       "      <td>0.000000</td>\n",
       "      <td>0.000000</td>\n",
       "    </tr>\n",
       "    <tr>\n",
       "      <th>25%</th>\n",
       "      <td>0.000000e+00</td>\n",
       "      <td>85.000000</td>\n",
       "      <td>5.000000</td>\n",
       "      <td>3.000000</td>\n",
       "    </tr>\n",
       "    <tr>\n",
       "      <th>50%</th>\n",
       "      <td>0.000000e+00</td>\n",
       "      <td>95.000000</td>\n",
       "      <td>6.000000</td>\n",
       "      <td>10.000000</td>\n",
       "    </tr>\n",
       "    <tr>\n",
       "      <th>75%</th>\n",
       "      <td>0.000000e+00</td>\n",
       "      <td>107.000000</td>\n",
       "      <td>6.800000</td>\n",
       "      <td>34.000000</td>\n",
       "    </tr>\n",
       "    <tr>\n",
       "      <th>max</th>\n",
       "      <td>2.787965e+09</td>\n",
       "      <td>1256.000000</td>\n",
       "      <td>10.000000</td>\n",
       "      <td>14075.000000</td>\n",
       "    </tr>\n",
       "  </tbody>\n",
       "</table>\n",
       "</div>"
      ],
      "text/plain": [
       "            revenue       runtime  vote_average    vote_count\n",
       "count  4.546000e+04  45203.000000  45460.000000  45460.000000\n",
       "mean   1.120935e+07     94.128199      5.618207    109.897338\n",
       "std    6.433225e+07     38.407810      1.924216    491.310374\n",
       "min    0.000000e+00      0.000000      0.000000      0.000000\n",
       "25%    0.000000e+00     85.000000      5.000000      3.000000\n",
       "50%    0.000000e+00     95.000000      6.000000     10.000000\n",
       "75%    0.000000e+00    107.000000      6.800000     34.000000\n",
       "max    2.787965e+09   1256.000000     10.000000  14075.000000"
      ]
     },
     "execution_count": 9,
     "metadata": {},
     "output_type": "execute_result"
    }
   ],
   "source": [
    "movies.columns"
   ]
  },
  {
   "cell_type": "code",
   "execution_count": 12,
   "metadata": {},
   "outputs": [
    {
     "data": {
      "text/html": [
       "<div>\n",
       "<style scoped>\n",
       "    .dataframe tbody tr th:only-of-type {\n",
       "        vertical-align: middle;\n",
       "    }\n",
       "\n",
       "    .dataframe tbody tr th {\n",
       "        vertical-align: top;\n",
       "    }\n",
       "\n",
       "    .dataframe thead th {\n",
       "        text-align: right;\n",
       "    }\n",
       "</style>\n",
       "<table border=\"1\" class=\"dataframe\">\n",
       "  <thead>\n",
       "    <tr style=\"text-align: right;\">\n",
       "      <th></th>\n",
       "      <th>revenue</th>\n",
       "      <th>runtime</th>\n",
       "      <th>vote_average</th>\n",
       "      <th>vote_count</th>\n",
       "    </tr>\n",
       "  </thead>\n",
       "  <tbody>\n",
       "    <tr>\n",
       "      <th>count</th>\n",
       "      <td>4.546000e+04</td>\n",
       "      <td>45203.000000</td>\n",
       "      <td>45460.000000</td>\n",
       "      <td>45460.000000</td>\n",
       "    </tr>\n",
       "    <tr>\n",
       "      <th>mean</th>\n",
       "      <td>1.120935e+07</td>\n",
       "      <td>94.128199</td>\n",
       "      <td>5.618207</td>\n",
       "      <td>109.897338</td>\n",
       "    </tr>\n",
       "    <tr>\n",
       "      <th>std</th>\n",
       "      <td>6.433225e+07</td>\n",
       "      <td>38.407810</td>\n",
       "      <td>1.924216</td>\n",
       "      <td>491.310374</td>\n",
       "    </tr>\n",
       "    <tr>\n",
       "      <th>min</th>\n",
       "      <td>0.000000e+00</td>\n",
       "      <td>0.000000</td>\n",
       "      <td>0.000000</td>\n",
       "      <td>0.000000</td>\n",
       "    </tr>\n",
       "    <tr>\n",
       "      <th>25%</th>\n",
       "      <td>0.000000e+00</td>\n",
       "      <td>85.000000</td>\n",
       "      <td>5.000000</td>\n",
       "      <td>3.000000</td>\n",
       "    </tr>\n",
       "    <tr>\n",
       "      <th>50%</th>\n",
       "      <td>0.000000e+00</td>\n",
       "      <td>95.000000</td>\n",
       "      <td>6.000000</td>\n",
       "      <td>10.000000</td>\n",
       "    </tr>\n",
       "    <tr>\n",
       "      <th>75%</th>\n",
       "      <td>0.000000e+00</td>\n",
       "      <td>107.000000</td>\n",
       "      <td>6.800000</td>\n",
       "      <td>34.000000</td>\n",
       "    </tr>\n",
       "    <tr>\n",
       "      <th>max</th>\n",
       "      <td>2.787965e+09</td>\n",
       "      <td>1256.000000</td>\n",
       "      <td>10.000000</td>\n",
       "      <td>14075.000000</td>\n",
       "    </tr>\n",
       "  </tbody>\n",
       "</table>\n",
       "</div>"
      ],
      "text/plain": [
       "            revenue       runtime  vote_average    vote_count\n",
       "count  4.546000e+04  45203.000000  45460.000000  45460.000000\n",
       "mean   1.120935e+07     94.128199      5.618207    109.897338\n",
       "std    6.433225e+07     38.407810      1.924216    491.310374\n",
       "min    0.000000e+00      0.000000      0.000000      0.000000\n",
       "25%    0.000000e+00     85.000000      5.000000      3.000000\n",
       "50%    0.000000e+00     95.000000      6.000000     10.000000\n",
       "75%    0.000000e+00    107.000000      6.800000     34.000000\n",
       "max    2.787965e+09   1256.000000     10.000000  14075.000000"
      ]
     },
     "execution_count": 12,
     "metadata": {},
     "output_type": "execute_result"
    }
   ],
   "source": [
    "movies.describe() # 0 means missing data"
   ]
  },
  {
   "cell_type": "code",
   "execution_count": 13,
   "metadata": {},
   "outputs": [
    {
     "data": {
      "text/plain": [
       "(45466, 24)"
      ]
     },
     "execution_count": 13,
     "metadata": {},
     "output_type": "execute_result"
    }
   ],
   "source": [
    "movies.shape"
   ]
  },
  {
   "cell_type": "markdown",
   "metadata": {},
   "source": [
    "### Research Question 1: For top grossing actors, which of their movies brought in the most revenue?"
   ]
  },
  {
   "cell_type": "markdown",
   "metadata": {},
   "source": [
    "Explanation: "
   ]
  },
  {
   "cell_type": "markdown",
   "metadata": {},
   "source": [
    "#### Top 10 Grossing Actresses of all Time"
   ]
  },
  {
   "cell_type": "code",
   "execution_count": 22,
   "metadata": {},
   "outputs": [
    {
     "ename": "FileNotFoundError",
     "evalue": "File b'credits.csv' does not exist",
     "output_type": "error",
     "traceback": [
      "\u001b[0;31m---------------------------------------------------------------------------\u001b[0m",
      "\u001b[0;31mFileNotFoundError\u001b[0m                         Traceback (most recent call last)",
      "\u001b[0;32m<ipython-input-22-a4a2705757c1>\u001b[0m in \u001b[0;36m<module>\u001b[0;34m()\u001b[0m\n\u001b[0;32m----> 1\u001b[0;31m \u001b[0mcredits\u001b[0m \u001b[0;34m=\u001b[0m \u001b[0mpd\u001b[0m\u001b[0;34m.\u001b[0m\u001b[0mread_csv\u001b[0m\u001b[0;34m(\u001b[0m\u001b[0;34m\"credits.csv\"\u001b[0m\u001b[0;34m)\u001b[0m\u001b[0;34m\u001b[0m\u001b[0m\n\u001b[0m",
      "\u001b[0;32m/anaconda3/lib/python3.6/site-packages/pandas/io/parsers.py\u001b[0m in \u001b[0;36mparser_f\u001b[0;34m(filepath_or_buffer, sep, delimiter, header, names, index_col, usecols, squeeze, prefix, mangle_dupe_cols, dtype, engine, converters, true_values, false_values, skipinitialspace, skiprows, nrows, na_values, keep_default_na, na_filter, verbose, skip_blank_lines, parse_dates, infer_datetime_format, keep_date_col, date_parser, dayfirst, iterator, chunksize, compression, thousands, decimal, lineterminator, quotechar, quoting, escapechar, comment, encoding, dialect, tupleize_cols, error_bad_lines, warn_bad_lines, skipfooter, skip_footer, doublequote, delim_whitespace, as_recarray, compact_ints, use_unsigned, low_memory, buffer_lines, memory_map, float_precision)\u001b[0m\n\u001b[1;32m    707\u001b[0m                     skip_blank_lines=skip_blank_lines)\n\u001b[1;32m    708\u001b[0m \u001b[0;34m\u001b[0m\u001b[0m\n\u001b[0;32m--> 709\u001b[0;31m         \u001b[0;32mreturn\u001b[0m \u001b[0m_read\u001b[0m\u001b[0;34m(\u001b[0m\u001b[0mfilepath_or_buffer\u001b[0m\u001b[0;34m,\u001b[0m \u001b[0mkwds\u001b[0m\u001b[0;34m)\u001b[0m\u001b[0;34m\u001b[0m\u001b[0m\n\u001b[0m\u001b[1;32m    710\u001b[0m \u001b[0;34m\u001b[0m\u001b[0m\n\u001b[1;32m    711\u001b[0m     \u001b[0mparser_f\u001b[0m\u001b[0;34m.\u001b[0m\u001b[0m__name__\u001b[0m \u001b[0;34m=\u001b[0m \u001b[0mname\u001b[0m\u001b[0;34m\u001b[0m\u001b[0m\n",
      "\u001b[0;32m/anaconda3/lib/python3.6/site-packages/pandas/io/parsers.py\u001b[0m in \u001b[0;36m_read\u001b[0;34m(filepath_or_buffer, kwds)\u001b[0m\n\u001b[1;32m    447\u001b[0m \u001b[0;34m\u001b[0m\u001b[0m\n\u001b[1;32m    448\u001b[0m     \u001b[0;31m# Create the parser.\u001b[0m\u001b[0;34m\u001b[0m\u001b[0;34m\u001b[0m\u001b[0m\n\u001b[0;32m--> 449\u001b[0;31m     \u001b[0mparser\u001b[0m \u001b[0;34m=\u001b[0m \u001b[0mTextFileReader\u001b[0m\u001b[0;34m(\u001b[0m\u001b[0mfilepath_or_buffer\u001b[0m\u001b[0;34m,\u001b[0m \u001b[0;34m**\u001b[0m\u001b[0mkwds\u001b[0m\u001b[0;34m)\u001b[0m\u001b[0;34m\u001b[0m\u001b[0m\n\u001b[0m\u001b[1;32m    450\u001b[0m \u001b[0;34m\u001b[0m\u001b[0m\n\u001b[1;32m    451\u001b[0m     \u001b[0;32mif\u001b[0m \u001b[0mchunksize\u001b[0m \u001b[0;32mor\u001b[0m \u001b[0miterator\u001b[0m\u001b[0;34m:\u001b[0m\u001b[0;34m\u001b[0m\u001b[0m\n",
      "\u001b[0;32m/anaconda3/lib/python3.6/site-packages/pandas/io/parsers.py\u001b[0m in \u001b[0;36m__init__\u001b[0;34m(self, f, engine, **kwds)\u001b[0m\n\u001b[1;32m    816\u001b[0m             \u001b[0mself\u001b[0m\u001b[0;34m.\u001b[0m\u001b[0moptions\u001b[0m\u001b[0;34m[\u001b[0m\u001b[0;34m'has_index_names'\u001b[0m\u001b[0;34m]\u001b[0m \u001b[0;34m=\u001b[0m \u001b[0mkwds\u001b[0m\u001b[0;34m[\u001b[0m\u001b[0;34m'has_index_names'\u001b[0m\u001b[0;34m]\u001b[0m\u001b[0;34m\u001b[0m\u001b[0m\n\u001b[1;32m    817\u001b[0m \u001b[0;34m\u001b[0m\u001b[0m\n\u001b[0;32m--> 818\u001b[0;31m         \u001b[0mself\u001b[0m\u001b[0;34m.\u001b[0m\u001b[0m_make_engine\u001b[0m\u001b[0;34m(\u001b[0m\u001b[0mself\u001b[0m\u001b[0;34m.\u001b[0m\u001b[0mengine\u001b[0m\u001b[0;34m)\u001b[0m\u001b[0;34m\u001b[0m\u001b[0m\n\u001b[0m\u001b[1;32m    819\u001b[0m \u001b[0;34m\u001b[0m\u001b[0m\n\u001b[1;32m    820\u001b[0m     \u001b[0;32mdef\u001b[0m \u001b[0mclose\u001b[0m\u001b[0;34m(\u001b[0m\u001b[0mself\u001b[0m\u001b[0;34m)\u001b[0m\u001b[0;34m:\u001b[0m\u001b[0;34m\u001b[0m\u001b[0m\n",
      "\u001b[0;32m/anaconda3/lib/python3.6/site-packages/pandas/io/parsers.py\u001b[0m in \u001b[0;36m_make_engine\u001b[0;34m(self, engine)\u001b[0m\n\u001b[1;32m   1047\u001b[0m     \u001b[0;32mdef\u001b[0m \u001b[0m_make_engine\u001b[0m\u001b[0;34m(\u001b[0m\u001b[0mself\u001b[0m\u001b[0;34m,\u001b[0m \u001b[0mengine\u001b[0m\u001b[0;34m=\u001b[0m\u001b[0;34m'c'\u001b[0m\u001b[0;34m)\u001b[0m\u001b[0;34m:\u001b[0m\u001b[0;34m\u001b[0m\u001b[0m\n\u001b[1;32m   1048\u001b[0m         \u001b[0;32mif\u001b[0m \u001b[0mengine\u001b[0m \u001b[0;34m==\u001b[0m \u001b[0;34m'c'\u001b[0m\u001b[0;34m:\u001b[0m\u001b[0;34m\u001b[0m\u001b[0m\n\u001b[0;32m-> 1049\u001b[0;31m             \u001b[0mself\u001b[0m\u001b[0;34m.\u001b[0m\u001b[0m_engine\u001b[0m \u001b[0;34m=\u001b[0m \u001b[0mCParserWrapper\u001b[0m\u001b[0;34m(\u001b[0m\u001b[0mself\u001b[0m\u001b[0;34m.\u001b[0m\u001b[0mf\u001b[0m\u001b[0;34m,\u001b[0m \u001b[0;34m**\u001b[0m\u001b[0mself\u001b[0m\u001b[0;34m.\u001b[0m\u001b[0moptions\u001b[0m\u001b[0;34m)\u001b[0m\u001b[0;34m\u001b[0m\u001b[0m\n\u001b[0m\u001b[1;32m   1050\u001b[0m         \u001b[0;32melse\u001b[0m\u001b[0;34m:\u001b[0m\u001b[0;34m\u001b[0m\u001b[0m\n\u001b[1;32m   1051\u001b[0m             \u001b[0;32mif\u001b[0m \u001b[0mengine\u001b[0m \u001b[0;34m==\u001b[0m \u001b[0;34m'python'\u001b[0m\u001b[0;34m:\u001b[0m\u001b[0;34m\u001b[0m\u001b[0m\n",
      "\u001b[0;32m/anaconda3/lib/python3.6/site-packages/pandas/io/parsers.py\u001b[0m in \u001b[0;36m__init__\u001b[0;34m(self, src, **kwds)\u001b[0m\n\u001b[1;32m   1693\u001b[0m         \u001b[0mkwds\u001b[0m\u001b[0;34m[\u001b[0m\u001b[0;34m'allow_leading_cols'\u001b[0m\u001b[0;34m]\u001b[0m \u001b[0;34m=\u001b[0m \u001b[0mself\u001b[0m\u001b[0;34m.\u001b[0m\u001b[0mindex_col\u001b[0m \u001b[0;32mis\u001b[0m \u001b[0;32mnot\u001b[0m \u001b[0;32mFalse\u001b[0m\u001b[0;34m\u001b[0m\u001b[0m\n\u001b[1;32m   1694\u001b[0m \u001b[0;34m\u001b[0m\u001b[0m\n\u001b[0;32m-> 1695\u001b[0;31m         \u001b[0mself\u001b[0m\u001b[0;34m.\u001b[0m\u001b[0m_reader\u001b[0m \u001b[0;34m=\u001b[0m \u001b[0mparsers\u001b[0m\u001b[0;34m.\u001b[0m\u001b[0mTextReader\u001b[0m\u001b[0;34m(\u001b[0m\u001b[0msrc\u001b[0m\u001b[0;34m,\u001b[0m \u001b[0;34m**\u001b[0m\u001b[0mkwds\u001b[0m\u001b[0;34m)\u001b[0m\u001b[0;34m\u001b[0m\u001b[0m\n\u001b[0m\u001b[1;32m   1696\u001b[0m \u001b[0;34m\u001b[0m\u001b[0m\n\u001b[1;32m   1697\u001b[0m         \u001b[0;31m# XXX\u001b[0m\u001b[0;34m\u001b[0m\u001b[0;34m\u001b[0m\u001b[0m\n",
      "\u001b[0;32mpandas/_libs/parsers.pyx\u001b[0m in \u001b[0;36mpandas._libs.parsers.TextReader.__cinit__\u001b[0;34m()\u001b[0m\n",
      "\u001b[0;32mpandas/_libs/parsers.pyx\u001b[0m in \u001b[0;36mpandas._libs.parsers.TextReader._setup_parser_source\u001b[0;34m()\u001b[0m\n",
      "\u001b[0;31mFileNotFoundError\u001b[0m: File b'credits.csv' does not exist"
     ]
    }
   ],
   "source": [
    "credits = pd.read_csv(\"credits.csv\")"
   ]
  },
  {
   "cell_type": "code",
   "execution_count": null,
   "metadata": {},
   "outputs": [],
   "source": [
    "# Revenue Per Movie For Scarlett Johansson (#1)\n",
    "credits['scarlett'] = [\"Scarlett Johansson\" in credits['cast'][i] for i in range(0, len(credits))]\n",
    "scarlett = credits.loc[credits.scarlett == True]\n",
    "scarlett.shape\n",
    "scarlett_id = scarlett.id.tolist()\n",
    "scarlett_id = [str(i) for i in scarlett_id]\n",
    "movies_scarlett = movies[movies['id'].isin(scarlett_id)]\n",
    "movies_scarlett = movies_scarlett.loc[movies_scarlett['revenue'] != 0]\n",
    "plt.bar(movies_scarlett.title, movies_scarlett.revenue)\n",
    "plt.title('Scarlett Johansson\\'s Revenue Per Movie')\n",
    "plt.xticks(rotation=90)\n",
    "\n",
    "print(movies_scarlett.revenue.sum())\n",
    "movies_scarlett.shape[0]"
   ]
  },
  {
   "cell_type": "code",
   "execution_count": null,
   "metadata": {},
   "outputs": [],
   "source": [
    "# Revenue Per Movie For Cameron Diaz\n",
    "credits['cameron'] = [\"Cameron Diaz\" in credits['cast'][i] for i in range(0, len(credits))]\n",
    "cameron = credits.loc[credits.cameron == True]\n",
    "cameron.shape\n",
    "cameron_id = cameron.id.tolist()\n",
    "cameron_id = [str(i) for i in cameron_id]\n",
    "movies_cameron = movies[movies['id'].isin(cameron_id)]\n",
    "movies_cameron = movies_cameron.loc[movies_cameron['revenue'] != 0]\n",
    "plt.bar(movies_cameron.title, movies_cameron.revenue)\n",
    "plt.title('Cameron Diaz\\'s Revenue Per Movie')\n",
    "plt.xticks(rotation=90)\n",
    "\n",
    "print(movies_cameron.revenue.sum())\n",
    "movies_cameron.shape[0]"
   ]
  },
  {
   "cell_type": "code",
   "execution_count": null,
   "metadata": {},
   "outputs": [],
   "source": [
    "# Revenue Per Movie For Helena Bonham Carter\n",
    "credits['helena'] = [\"Helena Bonham Carter\" in credits['cast'][i] for i in range(0, len(credits))]\n",
    "helena = credits.loc[credits.helena == True]\n",
    "helena.shape\n",
    "helena_id = helena.id.tolist()\n",
    "helena_id = [str(i) for i in helena_id]\n",
    "movies_helena = movies[movies['id'].isin(helena_id)]\n",
    "movies_helena = movies_helena.loc[movies_helena['revenue'] != 0]\n",
    "plt.bar(movies_helena.title, movies_helena.revenue)\n",
    "plt.title('Helena Bonham Carter\\'s Revenue Per Movie')\n",
    "plt.xticks(rotation=90)\n",
    "\n",
    "print(movies_helena.revenue.sum())\n",
    "movies_helena.shape[0]"
   ]
  },
  {
   "cell_type": "code",
   "execution_count": null,
   "metadata": {},
   "outputs": [],
   "source": [
    "# Revenue Per Movie For Cate Blanchett\n",
    "credits['cate'] = [\"Cate Blanchett\" in credits['cast'][i] for i in range(0, len(credits))]\n",
    "cate = credits.loc[credits.cate == True]\n",
    "cate.shape\n",
    "cate_id = cate.id.tolist()\n",
    "cate_id = [str(i) for i in cate_id]\n",
    "movies_cate = movies[movies['id'].isin(cate_id)]\n",
    "movies_cate = movies_cate.loc[movies_cate['revenue'] != 0]\n",
    "plt.bar(movies_cate.title, movies_cate.revenue)\n",
    "plt.title('Cate Blanchett\\'s Revenue Per Movie')\n",
    "plt.xticks(rotation=90)\n",
    "\n",
    "print(movies_cate.revenue.sum())\n",
    "movies_cate.shape[0]"
   ]
  },
  {
   "cell_type": "code",
   "execution_count": null,
   "metadata": {},
   "outputs": [],
   "source": [
    "# Revenue Per Movie For Julia Roberts\n",
    "credits['julia'] = [\"Julia Roberts\" in credits['cast'][i] for i in range(0, len(credits))]\n",
    "julia = credits.loc[credits.julia == True]\n",
    "julia.shape\n",
    "julia_id = julia.id.tolist()\n",
    "julia_id = [str(i) for i in julia_id]\n",
    "movies_julia = movies[movies['id'].isin(julia_id)]\n",
    "movies_julia = movies_julia.loc[movies_julia['revenue'] != 0]\n",
    "plt.bar(movies_julia.title, movies_julia.revenue)\n",
    "plt.title('Julia Roberts\\'s Revenue Per Movie')\n",
    "plt.xticks(rotation=90)\n",
    "\n",
    "print(movies_julia.revenue.sum())\n",
    "movies_julia.shape[0]"
   ]
  },
  {
   "cell_type": "code",
   "execution_count": null,
   "metadata": {},
   "outputs": [],
   "source": [
    "# Revenue Per Movie For Elizabeth Banks\n",
    "credits['elizabeth'] = [\"Elizabeth Banks\" in credits['cast'][i] for i in range(0, len(credits))]\n",
    "elizabeth = credits.loc[credits.elizabeth == True]\n",
    "elizabeth.shape\n",
    "elizabeth_id = elizabeth.id.tolist()\n",
    "elizabeth_id = [str(i) for i in elizabeth_id]\n",
    "movies_elizabeth = movies[movies['id'].isin(elizabeth_id)]\n",
    "movies_elizabeth = movies_elizabeth.loc[movies_elizabeth['revenue'] != 0]\n",
    "plt.bar(movies_elizabeth.title, movies_elizabeth.revenue)\n",
    "plt.title('Elizabeth Banks\\'s Revenue Per Movie')\n",
    "plt.xticks(rotation=90)\n",
    "\n",
    "print(movies_elizabeth.revenue.sum())\n",
    "movies_elizabeth.shape[0]"
   ]
  },
  {
   "cell_type": "code",
   "execution_count": null,
   "metadata": {},
   "outputs": [],
   "source": [
    "# Revenue Per Movie For Emma Watson\n",
    "credits['emma'] = [\"Emma Watson\" in credits['cast'][i] for i in range(0, len(credits))]\n",
    "emma = credits.loc[credits.emma == True]\n",
    "emma.shape\n",
    "emma_id = emma.id.tolist()\n",
    "emma_id = [str(i) for i in emma_id]\n",
    "movies_emma = movies[movies['id'].isin(emma_id)]\n",
    "movies_emma = movies_emma.loc[movies_emma['revenue'] != 0]\n",
    "plt.bar(movies_emma.title, movies_emma.revenue)\n",
    "plt.title('Emma Watson\\'s Revenue Per Movie')\n",
    "plt.xticks(rotation=90)\n",
    "\n",
    "print(movies_emma.revenue.sum())\n",
    "movies_emma.shape[0]"
   ]
  },
  {
   "cell_type": "code",
   "execution_count": null,
   "metadata": {},
   "outputs": [],
   "source": [
    "# Revenue Per Movie For Sanda Bullock\n",
    "credits['sandra'] = [\"Sandra Bullock\" in credits['cast'][i] for i in range(0, len(credits))]\n",
    "sandra = credits.loc[credits.sandra == True]\n",
    "sandra.shape\n",
    "sandra_id = sandra.id.tolist()\n",
    "sandra_id = [str(i) for i in sandra_id]\n",
    "movies_sandra = movies[movies['id'].isin(sandra_id)]\n",
    "movies_sandra = movies_sandra.loc[movies_sandra['revenue'] != 0]\n",
    "plt.bar(movies_sandra.title, movies_sandra.revenue)\n",
    "plt.title('Sandra Bullock\\'s Revenue Per Movie')\n",
    "plt.xticks(rotation=90)\n",
    "\n",
    "print(movies_sandra.revenue.sum())\n",
    "movies_sandra.shape[0]"
   ]
  },
  {
   "cell_type": "code",
   "execution_count": null,
   "metadata": {},
   "outputs": [],
   "source": [
    "# Revenue Per Movie For Anne Hathaway\n",
    "credits['anne'] = [\"Anne Hathaway\" in credits['cast'][i] for i in range(0, len(credits))]\n",
    "anne = credits.loc[credits.anne == True]\n",
    "anne.shape\n",
    "anne_id = anne.id.tolist()\n",
    "anne_id = [str(i) for i in anne_id]\n",
    "movies_anne = movies[movies['id'].isin(anne_id)]\n",
    "movies_anne = movies_anne.loc[movies_anne['revenue'] != 0]\n",
    "plt.bar(movies_anne.title, movies_anne.revenue)\n",
    "plt.title('Anne Hathaway\\'s Revenue Per Movie')\n",
    "plt.xticks(rotation=90)\n",
    "\n",
    "print(movies_anne.revenue.sum())\n",
    "movies_anne.shape[0]"
   ]
  },
  {
   "cell_type": "code",
   "execution_count": null,
   "metadata": {},
   "outputs": [],
   "source": [
    "# Revenue Per Movie For Jennifer Lawrence\n",
    "credits['jennifer'] = [\"Jennifer Lawrence\" in credits['cast'][i] for i in range(0, len(credits))]\n",
    "jennifer = credits.loc[credits.jennifer == True]\n",
    "jennifer.shape\n",
    "jennifer_id = jennifer.id.tolist()\n",
    "jennifer_id = [str(i) for i in jennifer_id]\n",
    "movies_jennifer = movies[movies['id'].isin(jennifer_id)]\n",
    "movies_jennifer = movies_jennifer.loc[movies_jennifer['revenue'] != 0]\n",
    "plt.bar(movies_jennifer.title, movies_jennifer.revenue)\n",
    "plt.title('Jennifer Lawrence\\'s Revenue Per Movie')\n",
    "plt.xticks(rotation=90)\n",
    "\n",
    "print(movies_jennifer.revenue.sum())\n",
    "movies_jennifer.shape[0]"
   ]
  },
  {
   "cell_type": "markdown",
   "metadata": {},
   "source": [
    "#### Top 10 Grossing Actors of All Time"
   ]
  },
  {
   "cell_type": "code",
   "execution_count": null,
   "metadata": {},
   "outputs": [],
   "source": [
    "# Revenue Per Movie For Harrison Ford\n",
    "credits['ford'] = [\"Harrison Ford\" in credits['cast'][i] for i in range(0, len(credits))]\n",
    "ford = credits.loc[credits.ford == True]\n",
    "ford.shape\n",
    "ford_id = ford.id.tolist()\n",
    "ford_id = [str(i) for i in ford_id]\n",
    "movies_ford = movies[movies['id'].isin(ford_id)]\n",
    "movies_ford = movies_ford.loc[movies_ford['revenue'] != 0]\n",
    "plt.bar(movies_ford.title, movies_ford.revenue)\n",
    "plt.title('Harrison Ford\\'s Revenue Per Movie')\n",
    "plt.xticks(rotation=90)\n",
    "\n",
    "print(movies_ford.revenue.sum())\n",
    "movies_ford.shape[0]"
   ]
  },
  {
   "cell_type": "code",
   "execution_count": null,
   "metadata": {},
   "outputs": [],
   "source": [
    "# Revenue Per Movie For Samuel L Jackson\n",
    "credits['jackson'] = [\"Samuel L. Jackson\" in credits['cast'][i] for i in range(0, len(credits))]\n",
    "jackson = credits.loc[credits.jackson == True]\n",
    "jackson.shape\n",
    "jackson_id = jackson.id.tolist()\n",
    "jackson_id = [str(i) for i in jackson_id]\n",
    "movies_jackson = movies[movies['id'].isin(jackson_id)]\n",
    "movies_jackson = movies_jackson.loc[movies_jackson['revenue'] != 0]\n",
    "plt.bar(movies_jackson.title, movies_jackson.revenue)\n",
    "plt.title('Samuel L. Jackson\\'s Revenue Per Movie')\n",
    "plt.xticks(rotation=90)\n",
    "\n",
    "print(movies_jackson.revenue.sum())\n",
    "movies_jackson.shape[0]"
   ]
  },
  {
   "cell_type": "code",
   "execution_count": null,
   "metadata": {},
   "outputs": [],
   "source": [
    "# Revenue Per Movie For Morgan Freeman\n",
    "credits['freeman'] = [\"Morgan Freeman\" in credits['cast'][i] for i in range(0, len(credits))]\n",
    "freeman = credits.loc[credits.freeman == True]\n",
    "freeman.shape\n",
    "freeman_id = freeman.id.tolist()\n",
    "freeman_id = [str(i) for i in freeman_id]\n",
    "movies_freeman = movies[movies['id'].isin(freeman_id)]\n",
    "movies_freeman = movies_freeman.loc[movies_freeman['revenue'] != 0]\n",
    "plt.bar(movies_freeman.title, movies_freeman.revenue)\n",
    "plt.title('Morgan Freeman\\'s Revenue Per Movie')\n",
    "plt.xticks(rotation=90)\n",
    "\n",
    "print(movies_freeman.revenue.sum())\n",
    "movies_freeman.shape[0]"
   ]
  },
  {
   "cell_type": "code",
   "execution_count": null,
   "metadata": {},
   "outputs": [],
   "source": [
    "# Revenue Per Movie For Tom Hanks\n",
    "credits['hanks'] = [\"Tom Hanks\" in credits['cast'][i] for i in range(0, len(credits))]\n",
    "hanks = credits.loc[credits.hanks == True]\n",
    "hanks.shape\n",
    "hanks_id = hanks.id.tolist()\n",
    "hanks_id = [str(i) for i in hanks_id]\n",
    "movies_hanks = movies[movies['id'].isin(hanks_id)]\n",
    "movies_hanks = movies_hanks.loc[movies_hanks['revenue'] != 0]\n",
    "plt.bar(movies_hanks.title, movies_hanks.revenue)\n",
    "plt.title('Tom Hanks\\'s Revenue Per Movie')\n",
    "plt.xticks(rotation=90)\n",
    "\n",
    "print(movies_hanks.revenue.sum())\n",
    "movies_hanks.shape[0]"
   ]
  },
  {
   "cell_type": "code",
   "execution_count": null,
   "metadata": {},
   "outputs": [],
   "source": [
    "# Revenue Per Movie For Robert Downey Jr.\n",
    "credits['downey'] = [\"Robert Downey Jr.\" in credits['cast'][i] for i in range(0, len(credits))]\n",
    "downey = credits.loc[credits.downey == True]\n",
    "downey.shape\n",
    "downey_id = downey.id.tolist()\n",
    "downey_id = [str(i) for i in downey_id]\n",
    "movies_downey = movies[movies['id'].isin(downey_id)]\n",
    "movies_downey = movies_downey.loc[movies_downey['revenue'] != 0]\n",
    "plt.bar(movies_downey.title, movies_downey.revenue)\n",
    "plt.title('Robert Downey Jr.\\'s Revenue Per Movie')\n",
    "plt.xticks(rotation=90)\n",
    "\n",
    "print(movies_downey.revenue.sum())\n",
    "movies_downey.shape[0]"
   ]
  },
  {
   "cell_type": "code",
   "execution_count": null,
   "metadata": {},
   "outputs": [],
   "source": [
    "# Revenue Per Movie For Eddie Murphy\n",
    "credits['murphy'] = [\"Eddie Murphy\" in credits['cast'][i] for i in range(0, len(credits))]\n",
    "murphy = credits.loc[credits.murphy == True]\n",
    "murphy.shape\n",
    "murphy_id = murphy.id.tolist()\n",
    "murphy_id = [str(i) for i in murphy_id]\n",
    "movies_murphy = movies[movies['id'].isin(murphy_id)]\n",
    "movies_murphy = movies_murphy.loc[movies_murphy['revenue'] != 0]\n",
    "plt.bar(movies_murphy.title, movies_murphy.revenue)\n",
    "plt.title('Eddie Murphy\\'s Revenue Per Movie')\n",
    "plt.xticks(rotation=90)\n",
    "\n",
    "print(movies_murphy.revenue.sum())\n",
    "movies_murphy.shape[0]"
   ]
  },
  {
   "cell_type": "code",
   "execution_count": null,
   "metadata": {},
   "outputs": [],
   "source": [
    "# Revenue Per Movie For Tom Cruise\n",
    "credits['cruise'] = [\"Tom Cruise\" in credits['cast'][i] for i in range(0, len(credits))]\n",
    "cruise = credits.loc[credits.cruise == True]\n",
    "cruise.shape\n",
    "cruise_id = cruise.id.tolist()\n",
    "cruise_id = [str(i) for i in cruise_id]\n",
    "movies_cruise = movies[movies['id'].isin(cruise_id)]\n",
    "movies_cruise = movies_cruise.loc[movies_cruise['revenue'] != 0]\n",
    "plt.bar(movies_cruise.title, movies_cruise.revenue)\n",
    "plt.title('Tom Cruise\\'s Revenue Per Movie')\n",
    "plt.xticks(rotation=90)\n",
    "\n",
    "print(movies_cruise.revenue.sum())\n",
    "movies_cruise.shape[0]"
   ]
  },
  {
   "cell_type": "code",
   "execution_count": null,
   "metadata": {},
   "outputs": [],
   "source": [
    "# Revenue Per Movie For Johnny Depp\n",
    "credits['depp'] = [\"Johnny Depp\" in credits['cast'][i] for i in range(0, len(credits))]\n",
    "depp = credits.loc[credits.depp == True]\n",
    "depp.shape\n",
    "depp_id = depp.id.tolist()\n",
    "depp_id = [str(i) for i in depp_id]\n",
    "movies_depp = movies[movies['id'].isin(depp_id)]\n",
    "movies_depp = movies_depp.loc[movies_depp['revenue'] != 0]\n",
    "plt.bar(movies_depp.title, movies_depp.revenue)\n",
    "plt.title('Johnny Depp\\'s Revenue Per Movie')\n",
    "plt.xticks(rotation=90)\n",
    "\n",
    "print(movies_depp.revenue.sum())\n",
    "movies_depp.shape[0]"
   ]
  },
  {
   "cell_type": "code",
   "execution_count": null,
   "metadata": {},
   "outputs": [],
   "source": [
    "# Revenue Per Movie For Michael Caine\n",
    "credits['caine'] = [\"Michael Caine\" in credits['cast'][i] for i in range(0, len(credits))]\n",
    "caine = credits.loc[credits.caine == True]\n",
    "caine.shape\n",
    "caine_id = caine.id.tolist()\n",
    "caine_id = [str(i) for i in caine_id]\n",
    "movies_caine = movies[movies['id'].isin(caine_id)]\n",
    "movies_caine = movies_caine.loc[movies_caine['revenue'] != 0]\n",
    "plt.bar(movies_caine.title, movies_caine.revenue)\n",
    "plt.title('Michael Caine\\'s Revenue Per Movie')\n",
    "plt.xticks(rotation=90)\n",
    "\n",
    "\n",
    "print(movies_caine.revenue.sum())\n",
    "movies_caine.shape[0]"
   ]
  },
  {
   "cell_type": "code",
   "execution_count": null,
   "metadata": {},
   "outputs": [],
   "source": [
    "# Revenue Per Movie For Gary Oldman\n",
    "credits['oldman'] = [\"Gary Oldman\" in credits['cast'][i] for i in range(0, len(credits))]\n",
    "oldman = credits.loc[credits.oldman == True]\n",
    "oldman.shape\n",
    "oldman_id = oldman.id.tolist()\n",
    "oldman_id = [str(i) for i in oldman_id]\n",
    "movies_oldman = movies[movies['id'].isin(oldman_id)]\n",
    "movies_oldman = movies_oldman.loc[movies_oldman['revenue'] != 0]\n",
    "plt.bar(movies_oldman.title, movies_oldman.revenue)\n",
    "plt.title('Gary Oldman\\'s Revenue Per Movie')\n",
    "plt.xticks(rotation=90)\n",
    "\n",
    "print(movies_oldman.revenue.sum())\n",
    "movies_oldman.shape[0]"
   ]
  },
  {
   "cell_type": "markdown",
   "metadata": {},
   "source": [
    "Based on the above plots, we learned that for the top 10 grossing actors and actresses of all time, their highest revenue tended to come from movies in a series. Branching from this, we decided to look into the difference in revenue between movies in a series and movies not in a series."
   ]
  },
  {
   "cell_type": "markdown",
   "metadata": {},
   "source": [
    "### Research Question 2: Does being part of a series impact revenue?"
   ]
  },
  {
   "cell_type": "code",
   "execution_count": 33,
   "metadata": {},
   "outputs": [
    {
     "data": {
      "image/png": "[encoded data removed]",
      "text/plain": [
       "<matplotlib.figure.Figure at 0x1a19994278>"
      ]
     },
     "metadata": {},
     "output_type": "display_data"
    }
   ],
   "source": [
    "movies['in_series'] = movies.belongs_to_collection.isna() == False\n",
    "movies.head()#adds column of booleans for if movie is from a series or not\n",
    "sns.violinplot(x='in_series', y='revenue', data=movies)\n",
    "plt.title(\"Revenue for Movies In a Series vs. Not in a Series\")\n",
    "plt.show()"
   ]
  },
  {
   "cell_type": "code",
   "execution_count": null,
   "metadata": {},
   "outputs": [],
   "source": [
    "sns.boxplot(x='in_series', y='revenue', data=movies)\n",
    "plt.title(\"Revenue for Movies In a Series vs. Not in a Series\")\n",
    "plt.show()"
   ]
  },
  {
   "cell_type": "code",
   "execution_count": null,
   "metadata": {},
   "outputs": [],
   "source": [
    "movies.groupby('in_series').revenue.mean() #higher revenue for movies in a series"
   ]
  },
  {
   "cell_type": "code",
   "execution_count": null,
   "metadata": {},
   "outputs": [],
   "source": []
  },
  {
   "cell_type": "markdown",
   "metadata": {},
   "source": [
    "### Research Question 3: Do production companies indeed generate higher revenue for movies in series?"
   ]
  },
  {
   "cell_type": "code",
   "execution_count": 25,
   "metadata": {},
   "outputs": [],
   "source": [
    "movies_prod = movies.sort_values(by = 'revenue', ascending = False)"
   ]
  },
  {
   "cell_type": "code",
   "execution_count": 26,
   "metadata": {},
   "outputs": [],
   "source": [
    "prod_companies = movies_prod[pd.notnull(movies_prod['production_companies'])]\n",
    "prod_companies = prod_companies.sort_values(by = 'revenue', ascending = False)\n",
    "prod_companies['belongs_to_series'] = prod_companies.belongs_to_collection.isna() == False"
   ]
  },
  {
   "cell_type": "markdown",
   "metadata": {},
   "source": [
    "#### #1 Warner Bros."
   ]
  },
  {
   "cell_type": "code",
   "execution_count": 27,
   "metadata": {},
   "outputs": [
    {
     "name": "stdout",
     "output_type": "stream",
     "text": [
      "(1711, 25)\n"
     ]
    }
   ],
   "source": [
    "warner_bros = prod_companies[prod_companies['production_companies'].str.contains(\"Warner Bros.|New Line Cinema|Castle Rock|Turner Entertainment|DC Films\")]\n",
    "print(warner_bros.shape)"
   ]
  },
  {
   "cell_type": "code",
   "execution_count": 28,
   "metadata": {},
   "outputs": [
    {
     "data": {
      "text/plain": [
       "False    1434\n",
       "True      277\n",
       "Name: belongs_to_series, dtype: int64"
      ]
     },
     "execution_count": 28,
     "metadata": {},
     "output_type": "execute_result"
    }
   ],
   "source": [
    "warner_bros.belongs_to_series.value_counts()"
   ]
  },
  {
   "cell_type": "code",
   "execution_count": 29,
   "metadata": {},
   "outputs": [
    {
     "data": {
      "text/plain": [
       "True     65\n",
       "False    35\n",
       "Name: belongs_to_series, dtype: int64"
      ]
     },
     "execution_count": 29,
     "metadata": {},
     "output_type": "execute_result"
    }
   ],
   "source": [
    "warner_bros = warner_bros.sort_values(by = 'revenue', ascending = False)\n",
    "warner_bros = warner_bros.iloc[1:101,];\n",
    "warner_bros.belongs_to_series.value_counts()"
   ]
  },
  {
   "cell_type": "markdown",
   "metadata": {},
   "source": [
    "Out of all of the movies produced by the Warner Bros, 19.3% of the movies belonged to a series. So 277/1711 of Warner Bros. movies were part of a series. Out of the top 100 movies produced by the Warner Bros, 65% of the movies belonged to a series."
   ]
  },
  {
   "cell_type": "markdown",
   "metadata": {},
   "source": [
    "#### #2 Sony Pictures"
   ]
  },
  {
   "cell_type": "code",
   "execution_count": null,
   "metadata": {},
   "outputs": [],
   "source": [
    "sony_pictures = prod_companies[prod_companies['production_companies'].str.contains(\"Sony|TriStar Pictures|Screen Gems|Destination Films|Affirm Films\")]"
   ]
  },
  {
   "cell_type": "code",
   "execution_count": 30,
   "metadata": {},
   "outputs": [
    {
     "ename": "NameError",
     "evalue": "name 'sony_pictures' is not defined",
     "output_type": "error",
     "traceback": [
      "\u001b[0;31m---------------------------------------------------------------------------\u001b[0m",
      "\u001b[0;31mNameError\u001b[0m                                 Traceback (most recent call last)",
      "\u001b[0;32m<ipython-input-30-6d426ad236de>\u001b[0m in \u001b[0;36m<module>\u001b[0;34m()\u001b[0m\n\u001b[0;32m----> 1\u001b[0;31m \u001b[0msony_pictures\u001b[0m\u001b[0;34m.\u001b[0m\u001b[0mshape\u001b[0m\u001b[0;34m\u001b[0m\u001b[0m\n\u001b[0m",
      "\u001b[0;31mNameError\u001b[0m: name 'sony_pictures' is not defined"
     ]
    }
   ],
   "source": [
    "sony_pictures.shape"
   ]
  },
  {
   "cell_type": "code",
   "execution_count": null,
   "metadata": {},
   "outputs": [],
   "source": [
    "sony_pictures.belongs_to_series.value_counts()"
   ]
  },
  {
   "cell_type": "code",
   "execution_count": null,
   "metadata": {},
   "outputs": [],
   "source": [
    "sony_pictures = sony_pictures.sort_values(by = 'revenue', ascending = False)\n",
    "sony_pictures = sony_pictures.iloc[1:101,];\n",
    "sony_pictures.belongs_to_series.value_counts()"
   ]
  },
  {
   "cell_type": "markdown",
   "metadata": {},
   "source": [
    "Out of all of the movies produced by Sony Pictures, 19.9% of the movies belonged to a series. So 89/448 Sony Pictures movies belonged to a series. Out of the top 100 movies produced by Sony Pictures, 31% of the movies belonged to a series"
   ]
  },
  {
   "cell_type": "markdown",
   "metadata": {},
   "source": [
    "#### #3 Walt Disney"
   ]
  },
  {
   "cell_type": "code",
   "execution_count": null,
   "metadata": {},
   "outputs": [],
   "source": [
    "walt_disney = prod_companies[prod_companies['production_companies'].str.contains(\"Disney|Lucas Film|Pixar|Marvel Studios\")]"
   ]
  },
  {
   "cell_type": "code",
   "execution_count": null,
   "metadata": {},
   "outputs": [],
   "source": [
    "walt_disney.shape"
   ]
  },
  {
   "cell_type": "code",
   "execution_count": null,
   "metadata": {},
   "outputs": [],
   "source": [
    "walt_disney.belongs_to_series.value_counts()"
   ]
  },
  {
   "cell_type": "code",
   "execution_count": null,
   "metadata": {},
   "outputs": [],
   "source": [
    "walt_disney = walt_disney.sort_values(by = 'revenue', ascending = False)\n",
    "walt_disney = walt_disney.iloc[1:101,];\n",
    "walt_disney.belongs_to_series.value_counts()"
   ]
  },
  {
   "cell_type": "markdown",
   "metadata": {},
   "source": [
    "Out of all of the movies produced by Walt Disney Studios, 33.3% of the movies belonged to a series. Out of the top 100 movies produced by Walt Disney Studios, 60% of the movies belonged to a series."
   ]
  },
  {
   "cell_type": "markdown",
   "metadata": {},
   "source": [
    "#### #4 Universal Pictures"
   ]
  },
  {
   "cell_type": "code",
   "execution_count": null,
   "metadata": {},
   "outputs": [],
   "source": [
    "universal_pictures = prod_companies[prod_companies['production_companies'].str.contains(\"Universal Studios|DreamWorks|Focus Features|Working Title Films\")]"
   ]
  },
  {
   "cell_type": "code",
   "execution_count": null,
   "metadata": {},
   "outputs": [],
   "source": [
    "universal_pictures.shape"
   ]
  },
  {
   "cell_type": "code",
   "execution_count": null,
   "metadata": {},
   "outputs": [],
   "source": [
    "universal_pictures.belongs_to_series.value_counts()"
   ]
  },
  {
   "cell_type": "code",
   "execution_count": null,
   "metadata": {},
   "outputs": [],
   "source": [
    "universal_pictures = universal_pictures.sort_values(by = 'revenue', ascending = False)\n",
    "universal_pictures = universal_pictures.iloc[1:101,];\n",
    "universal_pictures.belongs_to_series.value_counts()"
   ]
  },
  {
   "cell_type": "markdown",
   "metadata": {},
   "source": [
    "Out of all of the movies produced by Universal Pictures, 16.5% of the movies belonged to a series. Out of the top 100 movies produced by Universal Pictures, 30% of the movies belonged to a series."
   ]
  },
  {
   "cell_type": "markdown",
   "metadata": {},
   "source": [
    "#### #5 20th Century Fox"
   ]
  },
  {
   "cell_type": "code",
   "execution_count": null,
   "metadata": {},
   "outputs": [],
   "source": [
    "century_fox = prod_companies[prod_companies['production_companies'].str.contains(\"Fox|fox\")];"
   ]
  },
  {
   "cell_type": "code",
   "execution_count": null,
   "metadata": {},
   "outputs": [],
   "source": [
    "century_fox.shape"
   ]
  },
  {
   "cell_type": "code",
   "execution_count": null,
   "metadata": {},
   "outputs": [],
   "source": [
    "century_fox.belongs_to_series.value_counts()"
   ]
  },
  {
   "cell_type": "code",
   "execution_count": null,
   "metadata": {},
   "outputs": [],
   "source": [
    "century_fox = century_fox.sort_values(by = 'revenue', ascending = False)\n",
    "century_fox = century_fox.iloc[1:101,];\n",
    "century_fox.belongs_to_series.value_counts()"
   ]
  },
  {
   "cell_type": "markdown",
   "metadata": {},
   "source": [
    "Out of all of the movies produced by 20th Century Fox, 18.0% of the movies belonged to a series. Out of the top 100 movies produced by 20th Century Fox, 55% of the movies belonged to a series."
   ]
  },
  {
   "cell_type": "markdown",
   "metadata": {},
   "source": [
    "#### #6 Paramount Pictures"
   ]
  },
  {
   "cell_type": "code",
   "execution_count": null,
   "metadata": {},
   "outputs": [],
   "source": [
    "paramount = prod_companies[prod_companies['production_companies'].str.contains(\"Paramount|Nickelodean|MTV\")];"
   ]
  },
  {
   "cell_type": "code",
   "execution_count": null,
   "metadata": {},
   "outputs": [],
   "source": [
    "paramount.shape"
   ]
  },
  {
   "cell_type": "code",
   "execution_count": null,
   "metadata": {},
   "outputs": [],
   "source": [
    "paramount.belongs_to_series.value_counts()"
   ]
  },
  {
   "cell_type": "code",
   "execution_count": null,
   "metadata": {},
   "outputs": [],
   "source": [
    "paramount = paramount.sort_values(by = 'revenue', ascending = False)\n",
    "paramount = paramount.iloc[1:101,];\n",
    "paramount.belongs_to_series.value_counts()"
   ]
  },
  {
   "cell_type": "markdown",
   "metadata": {},
   "source": [
    "Out of all of the movies produced by Paramount Pictures, 14.2% of the movies belonged to a series. Out of the top 100 movies produced by Paramount Pictures, 51% of the movies belonged to a series."
   ]
  },
  {
   "cell_type": "markdown",
   "metadata": {},
   "source": [
    "#### #7 Lionsgate Films"
   ]
  },
  {
   "cell_type": "code",
   "execution_count": null,
   "metadata": {},
   "outputs": [],
   "source": [
    "lionsgate = prod_companies[prod_companies['production_companies'].str.contains(\"Lionsgate|Roadside Attractions|summmit|Summit|lionsgate|Pantelion|Codeblack\")];"
   ]
  },
  {
   "cell_type": "code",
   "execution_count": null,
   "metadata": {},
   "outputs": [],
   "source": [
    "lionsgate.shape"
   ]
  },
  {
   "cell_type": "code",
   "execution_count": null,
   "metadata": {},
   "outputs": [],
   "source": [
    "lionsgate.belongs_to_series.value_counts()"
   ]
  },
  {
   "cell_type": "code",
   "execution_count": null,
   "metadata": {},
   "outputs": [],
   "source": [
    "lionsgate = lionsgate.sort_values(by = 'revenue', ascending = False)\n",
    "lionsgate = lionsgate.iloc[1:101,];\n",
    "lionsgate.belongs_to_series.value_counts()"
   ]
  },
  {
   "cell_type": "markdown",
   "metadata": {},
   "source": [
    "Out of all of the movies produced by Lionsgate Films, 24.9% of the movies belonged to a series. Out of the top 100 movies produced by Lionsgate Films, 36% of the movies belonged to a series."
   ]
  },
  {
   "cell_type": "markdown",
   "metadata": {},
   "source": [
    "#### #8 The Weinstein Company"
   ]
  },
  {
   "cell_type": "code",
   "execution_count": null,
   "metadata": {},
   "outputs": [],
   "source": [
    "weinstein = prod_companies[prod_companies['production_companies'].str.contains(\"Weinstein|Lantern\")];"
   ]
  },
  {
   "cell_type": "code",
   "execution_count": null,
   "metadata": {},
   "outputs": [],
   "source": [
    "weinstein.shape"
   ]
  },
  {
   "cell_type": "code",
   "execution_count": null,
   "metadata": {},
   "outputs": [],
   "source": [
    "weinstein.belongs_to_series.value_counts()"
   ]
  },
  {
   "cell_type": "markdown",
   "metadata": {},
   "source": [
    "Only 11.4% of the movies produced by the Weinstein Company were released as part of a series."
   ]
  },
  {
   "cell_type": "markdown",
   "metadata": {},
   "source": [
    "#### #9 Metro-Goldwyn-Mayer Studios"
   ]
  },
  {
   "cell_type": "code",
   "execution_count": null,
   "metadata": {},
   "outputs": [],
   "source": [
    "metro_goldwyn = prod_companies[prod_companies['production_companies'].str.contains(\"Goldwyn\")]"
   ]
  },
  {
   "cell_type": "code",
   "execution_count": null,
   "metadata": {},
   "outputs": [],
   "source": [
    "metro_goldwyn.shape"
   ]
  },
  {
   "cell_type": "code",
   "execution_count": null,
   "metadata": {},
   "outputs": [],
   "source": [
    "metro_goldwyn.belongs_to_series.value_counts()"
   ]
  },
  {
   "cell_type": "code",
   "execution_count": null,
   "metadata": {},
   "outputs": [],
   "source": [
    "metro_goldwyn = metro_goldwyn.sort_values(by = 'revenue', ascending = False)\n",
    "metro_goldwyn = metro_goldwyn.iloc[1:101,];\n",
    "metro_goldwyn.belongs_to_series.value_counts()"
   ]
  },
  {
   "cell_type": "markdown",
   "metadata": {},
   "source": [
    "Out of all of the movies produced by Metro-Goldwyn-Mayer Studios, 8.3% of the movies belonged to a series. Out of the top 100 movies produced by Metro-Goldwyn-Mayer Studios, 37% of the movies belonged to a series."
   ]
  },
  {
   "cell_type": "markdown",
   "metadata": {},
   "source": [
    "#### #10 DreamWorks Pictures"
   ]
  },
  {
   "cell_type": "markdown",
   "metadata": {},
   "source": [
    "dreamworks = prod_companies[prod_companies['production_companies'].str.contains(\"DreamWorks|dreamworks\")];"
   ]
  },
  {
   "cell_type": "code",
   "execution_count": null,
   "metadata": {},
   "outputs": [],
   "source": [
    "dreamworks.shape"
   ]
  },
  {
   "cell_type": "code",
   "execution_count": null,
   "metadata": {},
   "outputs": [],
   "source": [
    "dreamworks.belongs_to_series.value_counts()"
   ]
  },
  {
   "cell_type": "code",
   "execution_count": null,
   "metadata": {},
   "outputs": [],
   "source": [
    "dreamworks = dreamworks.sort_values(by = 'revenue', ascending = False)\n",
    "dreamworks = dreamworks.iloc[1:101,];\n",
    "dreamworks.belongs_to_series.value_counts()"
   ]
  },
  {
   "cell_type": "markdown",
   "metadata": {},
   "source": [
    "Out of all of the movies produced by DreamWorks Pictures, 16.7% of the movies belonged to a series. Out of the top 100 movies produced by Dreamworks Pictures, 23% of the movies belonged to a series."
   ]
  },
  {
   "cell_type": "markdown",
   "metadata": {},
   "source": [
    "Overall: Overall, the top 10 production companies showed a much higher proportion of movies in series among their top 100 movies than in all of their movies."
   ]
  },
  {
   "cell_type": "markdown",
   "metadata": {},
   "source": [
    "### Research Question 4: Does a director's alma mater have an effect on movie revenue?"
   ]
  },
  {
   "cell_type": "code",
   "execution_count": null,
   "metadata": {},
   "outputs": [],
   "source": [
    "directors = pd.read_csv(\"director.csv\")"
   ]
  },
  {
   "cell_type": "code",
   "execution_count": null,
   "metadata": {},
   "outputs": [],
   "source": [
    "directors = directors.loc[directors.title_year<2016]\n",
    "directors.groupby('Alma mater').count()['director_name'].sort_values(ascending=False)[:7]"
   ]
  },
  {
   "cell_type": "code",
   "execution_count": null,
   "metadata": {},
   "outputs": [],
   "source": [
    "NYU = directors.loc[directors['Alma mater']=='New York University']\n",
    "NYU.groupby('title_year').gross.sum().plot(x='title_year', y='gross', color=\"purple\")\n",
    "\n",
    "USC = directors.loc[directors['Alma mater']=='University of Southern California']\n",
    "USC.groupby('title_year').gross.sum().plot(x='title_year', y='gross', color=\"red\")\n",
    "\n",
    "CalArts = directors.loc[directors['Alma mater']=='California Institute of the Arts']\n",
    "CalArts.groupby('title_year').gross.sum().plot(x='title_year', y='gross', color=\"yellow\")\n",
    "\n",
    "Harvard = directors.loc[directors['Alma mater']=='Harvard University']\n",
    "Harvard.groupby('title_year').gross.sum().plot(x='title_year', y='gross', color=\"green\")\n",
    "\n",
    "Wesleyan = directors.loc[directors['Alma mater']=='Wesleyan University']\n",
    "Wesleyan.groupby('title_year').gross.sum().plot(x='title_year', y='gross', color=\"cyan\")\n",
    "\n",
    "Yale = directors.loc[directors['Alma mater']=='Yale University']\n",
    "Yale.groupby('title_year').gross.sum().plot(x='title_year', y='gross', color=\"teal\")\n",
    "\n",
    "\n",
    "UCLA = directors.loc[directors['Alma mater']=='University of California, Los Angeles']\n",
    "UCLA.groupby('title_year').gross.sum().plot(x='title_year', y='gross', color=\"orange\", title=\"Total Revenue Per School Per Year\")\n",
    "\n",
    "plt.legend([\"NYU\",\"USC\",\"CalArts\", \"Harvard\", \"Wesleyan\", \"Yale\", \"UCLA\"], bbox_to_anchor=(1, 0.5))"
   ]
  },
  {
   "cell_type": "markdown",
   "metadata": {},
   "source": [
    "## Data Modeling: Can we predict revenue for the top 30 grossing movie series of all time?"
   ]
  },
  {
   "cell_type": "code",
   "execution_count": 34,
   "metadata": {},
   "outputs": [
    {
     "data": {
      "text/plain": [
       "(4494, 25)"
      ]
     },
     "execution_count": 34,
     "metadata": {},
     "output_type": "execute_result"
    }
   ],
   "source": [
    "in_series_df = movies.loc[movies.in_series==True]\n",
    "in_series_df.shape"
   ]
  },
  {
   "cell_type": "code",
   "execution_count": 35,
   "metadata": {},
   "outputs": [],
   "source": [
    "top_30_series= in_series_df.groupby('belongs_to_collection', as_index=False).sum().iloc[:,[0,1]].sort_values('revenue', ascending=False).reset_index().iloc[:30,:]"
   ]
  },
  {
   "cell_type": "code",
   "execution_count": 36,
   "metadata": {},
   "outputs": [
    {
     "name": "stderr",
     "output_type": "stream",
     "text": [
      "/anaconda3/lib/python3.6/site-packages/pandas/core/indexing.py:194: SettingWithCopyWarning: \n",
      "A value is trying to be set on a copy of a slice from a DataFrame\n",
      "\n",
      "See the caveats in the documentation: http://pandas.pydata.org/pandas-docs/stable/indexing.html#indexing-view-versus-copy\n",
      "  self._setitem_with_indexer(indexer, value)\n"
     ]
    }
   ],
   "source": [
    "import ast\n",
    "\n",
    "top_30_series['series_name'] = 0\n",
    "for i in range(0, len(top_30_series)):\n",
    "    temp = top_30_series.belongs_to_collection.iloc[i]\n",
    "    temp = ast.literal_eval(temp)\n",
    "    top_30_series.series_name.iloc[i] = temp['name']"
   ]
  },
  {
   "cell_type": "code",
   "execution_count": 37,
   "metadata": {},
   "outputs": [
    {
     "data": {
      "text/html": [
       "<div>\n",
       "<style scoped>\n",
       "    .dataframe tbody tr th:only-of-type {\n",
       "        vertical-align: middle;\n",
       "    }\n",
       "\n",
       "    .dataframe tbody tr th {\n",
       "        vertical-align: top;\n",
       "    }\n",
       "\n",
       "    .dataframe thead th {\n",
       "        text-align: right;\n",
       "    }\n",
       "</style>\n",
       "<table border=\"1\" class=\"dataframe\">\n",
       "  <thead>\n",
       "    <tr style=\"text-align: right;\">\n",
       "      <th></th>\n",
       "      <th>index</th>\n",
       "      <th>belongs_to_collection</th>\n",
       "      <th>revenue</th>\n",
       "      <th>series_name</th>\n",
       "    </tr>\n",
       "  </thead>\n",
       "  <tbody>\n",
       "    <tr>\n",
       "      <th>0</th>\n",
       "      <td>199</td>\n",
       "      <td>{'id': 1241, 'name': 'Harry Potter Collection'...</td>\n",
       "      <td>7.707367e+09</td>\n",
       "      <td>Harry Potter Collection</td>\n",
       "    </tr>\n",
       "    <tr>\n",
       "      <th>1</th>\n",
       "      <td>3</td>\n",
       "      <td>{'id': 10, 'name': 'Star Wars Collection', 'po...</td>\n",
       "      <td>7.434495e+09</td>\n",
       "      <td>Star Wars Collection</td>\n",
       "    </tr>\n",
       "    <tr>\n",
       "      <th>2</th>\n",
       "      <td>1481</td>\n",
       "      <td>{'id': 645, 'name': 'James Bond Collection', '...</td>\n",
       "      <td>7.106970e+09</td>\n",
       "      <td>James Bond Collection</td>\n",
       "    </tr>\n",
       "    <tr>\n",
       "      <th>3</th>\n",
       "      <td>1641</td>\n",
       "      <td>{'id': 9485, 'name': 'The Fast and the Furious...</td>\n",
       "      <td>5.125099e+09</td>\n",
       "      <td>The Fast and the Furious Collection</td>\n",
       "    </tr>\n",
       "    <tr>\n",
       "      <th>4</th>\n",
       "      <td>840</td>\n",
       "      <td>{'id': 295, 'name': 'Pirates of the Caribbean ...</td>\n",
       "      <td>4.521577e+09</td>\n",
       "      <td>Pirates of the Caribbean Collection</td>\n",
       "    </tr>\n",
       "  </tbody>\n",
       "</table>\n",
       "</div>"
      ],
      "text/plain": [
       "   index                              belongs_to_collection       revenue  \\\n",
       "0    199  {'id': 1241, 'name': 'Harry Potter Collection'...  7.707367e+09   \n",
       "1      3  {'id': 10, 'name': 'Star Wars Collection', 'po...  7.434495e+09   \n",
       "2   1481  {'id': 645, 'name': 'James Bond Collection', '...  7.106970e+09   \n",
       "3   1641  {'id': 9485, 'name': 'The Fast and the Furious...  5.125099e+09   \n",
       "4    840  {'id': 295, 'name': 'Pirates of the Caribbean ...  4.521577e+09   \n",
       "\n",
       "                           series_name  \n",
       "0              Harry Potter Collection  \n",
       "1                 Star Wars Collection  \n",
       "2                James Bond Collection  \n",
       "3  The Fast and the Furious Collection  \n",
       "4  Pirates of the Caribbean Collection  "
      ]
     },
     "execution_count": 37,
     "metadata": {},
     "output_type": "execute_result"
    }
   ],
   "source": [
    "top_30_series.head()"
   ]
  },
  {
   "cell_type": "code",
   "execution_count": 38,
   "metadata": {},
   "outputs": [
    {
     "data": {
      "text/plain": [
       "'Harry Potter Collection|Star Wars Collection|James Bond Collection|The Fast and the Furious Collection|Pirates of the Caribbean Collection|Transformers Collection|Despicable Me Collection|The Twilight Collection|Ice Age Collection|Jurassic Park Collection|Shrek Collection|The Hunger Games Collection|The Hobbit Collection|The Avengers Collection|The Lord of the Rings Collection|X-Men Collection|Avatar Collection|Mission: Impossible Collection|Spider-Man Collection|The Dark Knight Collection|Iron Man Collection|Madagascar Collection|Captain America Collection|Indiana Jones Collection|Finding Nemo Collection|Toy Story Collection|The Terminator Collection|Kung Fu Panda Collection|Men In Black Collection|The Bourne Collection'"
      ]
     },
     "execution_count": 38,
     "metadata": {},
     "output_type": "execute_result"
    }
   ],
   "source": [
    "# creating array of collection/series names\n",
    "top_30_series_array = top_30_series.series_name\n",
    "top_30_series_array\n",
    "s = '|'\n",
    "top_30_series_array_string = s.join(top_30_series_array)\n",
    "top_30_series_array_string"
   ]
  },
  {
   "cell_type": "code",
   "execution_count": 39,
   "metadata": {},
   "outputs": [
    {
     "name": "stderr",
     "output_type": "stream",
     "text": [
      "/anaconda3/lib/python3.6/site-packages/pandas/core/indexing.py:194: SettingWithCopyWarning: \n",
      "A value is trying to be set on a copy of a slice from a DataFrame\n",
      "\n",
      "See the caveats in the documentation: http://pandas.pydata.org/pandas-docs/stable/indexing.html#indexing-view-versus-copy\n",
      "  self._setitem_with_indexer(indexer, value)\n"
     ]
    }
   ],
   "source": [
    "movies_top_30_series_df = in_series_df[in_series_df['belongs_to_collection'].str.contains(top_30_series_array_string)]\n",
    "movies_top_30_series_df = movies_top_30_series_df[['belongs_to_collection','budget','id','production_companies','release_date','revenue','original_title','runtime','vote_average','vote_count' ]]\n",
    "movies_top_30_series_df.reset_index()\n",
    "\n",
    "#converts budget to numeric\n",
    "for i in range(0,len(movies_top_30_series_df)):\n",
    "    movies_top_30_series_df.budget.iloc[i] = float(movies_top_30_series_df.budget.iloc[i])"
   ]
  },
  {
   "cell_type": "code",
   "execution_count": 40,
   "metadata": {},
   "outputs": [
    {
     "data": {
      "text/html": [
       "<div>\n",
       "<style scoped>\n",
       "    .dataframe tbody tr th:only-of-type {\n",
       "        vertical-align: middle;\n",
       "    }\n",
       "\n",
       "    .dataframe tbody tr th {\n",
       "        vertical-align: top;\n",
       "    }\n",
       "\n",
       "    .dataframe thead th {\n",
       "        text-align: right;\n",
       "    }\n",
       "</style>\n",
       "<table border=\"1\" class=\"dataframe\">\n",
       "  <thead>\n",
       "    <tr style=\"text-align: right;\">\n",
       "      <th></th>\n",
       "      <th>belongs_to_collection</th>\n",
       "      <th>budget</th>\n",
       "      <th>id</th>\n",
       "      <th>production_companies</th>\n",
       "      <th>release_date</th>\n",
       "      <th>revenue</th>\n",
       "      <th>original_title</th>\n",
       "      <th>runtime</th>\n",
       "      <th>vote_average</th>\n",
       "      <th>vote_count</th>\n",
       "    </tr>\n",
       "  </thead>\n",
       "  <tbody>\n",
       "    <tr>\n",
       "      <th>0</th>\n",
       "      <td>{'id': 10194, 'name': 'Toy Story Collection', ...</td>\n",
       "      <td>30000000</td>\n",
       "      <td>862</td>\n",
       "      <td>[{'name': 'Pixar Animation Studios', 'id': 3}]</td>\n",
       "      <td>1995-10-30</td>\n",
       "      <td>373554033.0</td>\n",
       "      <td>Toy Story</td>\n",
       "      <td>81.0</td>\n",
       "      <td>7.7</td>\n",
       "      <td>5415.0</td>\n",
       "    </tr>\n",
       "    <tr>\n",
       "      <th>9</th>\n",
       "      <td>{'id': 645, 'name': 'James Bond Collection', '...</td>\n",
       "      <td>58000000</td>\n",
       "      <td>710</td>\n",
       "      <td>[{'name': 'United Artists', 'id': 60}, {'name'...</td>\n",
       "      <td>1995-11-16</td>\n",
       "      <td>352194034.0</td>\n",
       "      <td>GoldenEye</td>\n",
       "      <td>130.0</td>\n",
       "      <td>6.6</td>\n",
       "      <td>1194.0</td>\n",
       "    </tr>\n",
       "    <tr>\n",
       "      <th>256</th>\n",
       "      <td>{'id': 10, 'name': 'Star Wars Collection', 'po...</td>\n",
       "      <td>11000000</td>\n",
       "      <td>11</td>\n",
       "      <td>[{'name': 'Lucasfilm', 'id': 1}, {'name': 'Twe...</td>\n",
       "      <td>1977-05-25</td>\n",
       "      <td>775398007.0</td>\n",
       "      <td>Star Wars</td>\n",
       "      <td>121.0</td>\n",
       "      <td>8.1</td>\n",
       "      <td>6778.0</td>\n",
       "    </tr>\n",
       "    <tr>\n",
       "      <th>475</th>\n",
       "      <td>{'id': 328, 'name': 'Jurassic Park Collection'...</td>\n",
       "      <td>63000000</td>\n",
       "      <td>329</td>\n",
       "      <td>[{'name': 'Universal Pictures', 'id': 33}, {'n...</td>\n",
       "      <td>1993-06-11</td>\n",
       "      <td>920100000.0</td>\n",
       "      <td>Jurassic Park</td>\n",
       "      <td>127.0</td>\n",
       "      <td>7.6</td>\n",
       "      <td>4956.0</td>\n",
       "    </tr>\n",
       "    <tr>\n",
       "      <th>582</th>\n",
       "      <td>{'id': 528, 'name': 'The Terminator Collection...</td>\n",
       "      <td>100000000</td>\n",
       "      <td>280</td>\n",
       "      <td>[{'name': 'Lightstorm Entertainment', 'id': 57...</td>\n",
       "      <td>1991-07-01</td>\n",
       "      <td>520000000.0</td>\n",
       "      <td>Terminator 2: Judgment Day</td>\n",
       "      <td>137.0</td>\n",
       "      <td>7.7</td>\n",
       "      <td>4274.0</td>\n",
       "    </tr>\n",
       "  </tbody>\n",
       "</table>\n",
       "</div>"
      ],
      "text/plain": [
       "                                 belongs_to_collection     budget   id  \\\n",
       "0    {'id': 10194, 'name': 'Toy Story Collection', ...   30000000  862   \n",
       "9    {'id': 645, 'name': 'James Bond Collection', '...   58000000  710   \n",
       "256  {'id': 10, 'name': 'Star Wars Collection', 'po...   11000000   11   \n",
       "475  {'id': 328, 'name': 'Jurassic Park Collection'...   63000000  329   \n",
       "582  {'id': 528, 'name': 'The Terminator Collection...  100000000  280   \n",
       "\n",
       "                                  production_companies release_date  \\\n",
       "0       [{'name': 'Pixar Animation Studios', 'id': 3}]   1995-10-30   \n",
       "9    [{'name': 'United Artists', 'id': 60}, {'name'...   1995-11-16   \n",
       "256  [{'name': 'Lucasfilm', 'id': 1}, {'name': 'Twe...   1977-05-25   \n",
       "475  [{'name': 'Universal Pictures', 'id': 33}, {'n...   1993-06-11   \n",
       "582  [{'name': 'Lightstorm Entertainment', 'id': 57...   1991-07-01   \n",
       "\n",
       "         revenue              original_title  runtime  vote_average  \\\n",
       "0    373554033.0                   Toy Story     81.0           7.7   \n",
       "9    352194034.0                   GoldenEye    130.0           6.6   \n",
       "256  775398007.0                   Star Wars    121.0           8.1   \n",
       "475  920100000.0               Jurassic Park    127.0           7.6   \n",
       "582  520000000.0  Terminator 2: Judgment Day    137.0           7.7   \n",
       "\n",
       "     vote_count  \n",
       "0        5415.0  \n",
       "9        1194.0  \n",
       "256      6778.0  \n",
       "475      4956.0  \n",
       "582      4274.0  "
      ]
     },
     "execution_count": 40,
     "metadata": {},
     "output_type": "execute_result"
    }
   ],
   "source": [
    "movies_top_30_series_df.head() #data frame of movies that belong to the top 30 grossing series"
   ]
  },
  {
   "cell_type": "code",
   "execution_count": 41,
   "metadata": {},
   "outputs": [
    {
     "name": "stderr",
     "output_type": "stream",
     "text": [
      "/anaconda3/lib/python3.6/site-packages/pandas/core/indexing.py:194: SettingWithCopyWarning: \n",
      "A value is trying to be set on a copy of a slice from a DataFrame\n",
      "\n",
      "See the caveats in the documentation: http://pandas.pydata.org/pandas-docs/stable/indexing.html#indexing-view-versus-copy\n",
      "  self._setitem_with_indexer(indexer, value)\n"
     ]
    },
    {
     "data": {
      "text/html": [
       "<div>\n",
       "<style scoped>\n",
       "    .dataframe tbody tr th:only-of-type {\n",
       "        vertical-align: middle;\n",
       "    }\n",
       "\n",
       "    .dataframe tbody tr th {\n",
       "        vertical-align: top;\n",
       "    }\n",
       "\n",
       "    .dataframe thead th {\n",
       "        text-align: right;\n",
       "    }\n",
       "</style>\n",
       "<table border=\"1\" class=\"dataframe\">\n",
       "  <thead>\n",
       "    <tr style=\"text-align: right;\">\n",
       "      <th></th>\n",
       "      <th>belongs_to_collection</th>\n",
       "      <th>budget</th>\n",
       "      <th>id</th>\n",
       "      <th>production_companies</th>\n",
       "      <th>release_date</th>\n",
       "      <th>revenue</th>\n",
       "      <th>original_title</th>\n",
       "      <th>runtime</th>\n",
       "      <th>vote_average</th>\n",
       "      <th>vote_count</th>\n",
       "      <th>series_name</th>\n",
       "    </tr>\n",
       "  </thead>\n",
       "  <tbody>\n",
       "    <tr>\n",
       "      <th>0</th>\n",
       "      <td>{'id': 10194, 'name': 'Toy Story Collection', ...</td>\n",
       "      <td>30000000</td>\n",
       "      <td>862</td>\n",
       "      <td>[{'name': 'Pixar Animation Studios', 'id': 3}]</td>\n",
       "      <td>1995-10-30</td>\n",
       "      <td>373554033.0</td>\n",
       "      <td>Toy Story</td>\n",
       "      <td>81.0</td>\n",
       "      <td>7.7</td>\n",
       "      <td>5415.0</td>\n",
       "      <td>Toy Story Collection</td>\n",
       "    </tr>\n",
       "    <tr>\n",
       "      <th>9</th>\n",
       "      <td>{'id': 645, 'name': 'James Bond Collection', '...</td>\n",
       "      <td>58000000</td>\n",
       "      <td>710</td>\n",
       "      <td>[{'name': 'United Artists', 'id': 60}, {'name'...</td>\n",
       "      <td>1995-11-16</td>\n",
       "      <td>352194034.0</td>\n",
       "      <td>GoldenEye</td>\n",
       "      <td>130.0</td>\n",
       "      <td>6.6</td>\n",
       "      <td>1194.0</td>\n",
       "      <td>James Bond Collection</td>\n",
       "    </tr>\n",
       "    <tr>\n",
       "      <th>256</th>\n",
       "      <td>{'id': 10, 'name': 'Star Wars Collection', 'po...</td>\n",
       "      <td>11000000</td>\n",
       "      <td>11</td>\n",
       "      <td>[{'name': 'Lucasfilm', 'id': 1}, {'name': 'Twe...</td>\n",
       "      <td>1977-05-25</td>\n",
       "      <td>775398007.0</td>\n",
       "      <td>Star Wars</td>\n",
       "      <td>121.0</td>\n",
       "      <td>8.1</td>\n",
       "      <td>6778.0</td>\n",
       "      <td>Star Wars Collection</td>\n",
       "    </tr>\n",
       "    <tr>\n",
       "      <th>475</th>\n",
       "      <td>{'id': 328, 'name': 'Jurassic Park Collection'...</td>\n",
       "      <td>63000000</td>\n",
       "      <td>329</td>\n",
       "      <td>[{'name': 'Universal Pictures', 'id': 33}, {'n...</td>\n",
       "      <td>1993-06-11</td>\n",
       "      <td>920100000.0</td>\n",
       "      <td>Jurassic Park</td>\n",
       "      <td>127.0</td>\n",
       "      <td>7.6</td>\n",
       "      <td>4956.0</td>\n",
       "      <td>Jurassic Park Collection</td>\n",
       "    </tr>\n",
       "    <tr>\n",
       "      <th>582</th>\n",
       "      <td>{'id': 528, 'name': 'The Terminator Collection...</td>\n",
       "      <td>100000000</td>\n",
       "      <td>280</td>\n",
       "      <td>[{'name': 'Lightstorm Entertainment', 'id': 57...</td>\n",
       "      <td>1991-07-01</td>\n",
       "      <td>520000000.0</td>\n",
       "      <td>Terminator 2: Judgment Day</td>\n",
       "      <td>137.0</td>\n",
       "      <td>7.7</td>\n",
       "      <td>4274.0</td>\n",
       "      <td>The Terminator Collection</td>\n",
       "    </tr>\n",
       "  </tbody>\n",
       "</table>\n",
       "</div>"
      ],
      "text/plain": [
       "                                 belongs_to_collection     budget   id  \\\n",
       "0    {'id': 10194, 'name': 'Toy Story Collection', ...   30000000  862   \n",
       "9    {'id': 645, 'name': 'James Bond Collection', '...   58000000  710   \n",
       "256  {'id': 10, 'name': 'Star Wars Collection', 'po...   11000000   11   \n",
       "475  {'id': 328, 'name': 'Jurassic Park Collection'...   63000000  329   \n",
       "582  {'id': 528, 'name': 'The Terminator Collection...  100000000  280   \n",
       "\n",
       "                                  production_companies release_date  \\\n",
       "0       [{'name': 'Pixar Animation Studios', 'id': 3}]   1995-10-30   \n",
       "9    [{'name': 'United Artists', 'id': 60}, {'name'...   1995-11-16   \n",
       "256  [{'name': 'Lucasfilm', 'id': 1}, {'name': 'Twe...   1977-05-25   \n",
       "475  [{'name': 'Universal Pictures', 'id': 33}, {'n...   1993-06-11   \n",
       "582  [{'name': 'Lightstorm Entertainment', 'id': 57...   1991-07-01   \n",
       "\n",
       "         revenue              original_title  runtime  vote_average  \\\n",
       "0    373554033.0                   Toy Story     81.0           7.7   \n",
       "9    352194034.0                   GoldenEye    130.0           6.6   \n",
       "256  775398007.0                   Star Wars    121.0           8.1   \n",
       "475  920100000.0               Jurassic Park    127.0           7.6   \n",
       "582  520000000.0  Terminator 2: Judgment Day    137.0           7.7   \n",
       "\n",
       "     vote_count                series_name  \n",
       "0        5415.0       Toy Story Collection  \n",
       "9        1194.0      James Bond Collection  \n",
       "256      6778.0       Star Wars Collection  \n",
       "475      4956.0   Jurassic Park Collection  \n",
       "582      4274.0  The Terminator Collection  "
      ]
     },
     "execution_count": 41,
     "metadata": {},
     "output_type": "execute_result"
    }
   ],
   "source": [
    "movies_top_30_series_df['series_name'] = 0\n",
    "for i in range(0, len(movies_top_30_series_df)):\n",
    "    temp = movies_top_30_series_df.belongs_to_collection.iloc[i]\n",
    "    temp = ast.literal_eval(temp)\n",
    "    movies_top_30_series_df.series_name.iloc[i] = temp['name']\n",
    "    \n",
    "movies_top_30_series_df.head()"
   ]
  },
  {
   "cell_type": "markdown",
   "metadata": {},
   "source": [
    "### OLS Model: Predicting Revenue for Movies in Top 30 Grossing Movie Series"
   ]
  },
  {
   "cell_type": "code",
   "execution_count": null,
   "metadata": {},
   "outputs": [],
   "source": [
    "import statsmodels.api as sm\n",
    "import statsmodels.formula.api as smf\n",
    "from sklearn.model_selection import train_test_split"
   ]
  },
  {
   "cell_type": "code",
   "execution_count": null,
   "metadata": {},
   "outputs": [],
   "source": [
    "movies_top_30_series_df.corr()"
   ]
  },
  {
   "cell_type": "code",
   "execution_count": null,
   "metadata": {},
   "outputs": [],
   "source": [
    "print(sns.pairplot(movies_top_30_series_df[['revenue', 'budget','runtime','vote_average','vote_count']]))"
   ]
  },
  {
   "cell_type": "markdown",
   "metadata": {},
   "source": [
    "Based on this correlation matrix, we can see a strong correlation between revenue and vote count and budget, for movies in the top 30 grossing series. We decided to build an OLS model to predict revenue from the numeric factors in the dataset. We created 4 OLS models, each model adding a predictor, so that we could see how each additional predictor affects the prediction."
   ]
  },
  {
   "cell_type": "markdown",
   "metadata": {},
   "source": [
    "The first OLS model only uses vote count to predict revenue as vote count is the highest correlated with revenue. The R-squared value is decent."
   ]
  },
  {
   "cell_type": "code",
   "execution_count": null,
   "metadata": {},
   "outputs": [],
   "source": [
    "ols_model1 = smf.ols('revenue ~ vote_count', data=movies_top_30_series_df)\n",
    "ols_model1.fit().summary()"
   ]
  },
  {
   "cell_type": "markdown",
   "metadata": {},
   "source": [
    "The second OLS model predicts revenue from vote count and budget, as these are the 2 factors that are most highly correlated with revenue. The R-squared value improves a little bit."
   ]
  },
  {
   "cell_type": "code",
   "execution_count": null,
   "metadata": {},
   "outputs": [],
   "source": [
    "ols_model2 = smf.ols('revenue ~ vote_count + budget', data=movies_top_30_series_df)\n",
    "ols_model2.fit().summary()"
   ]
  },
  {
   "cell_type": "markdown",
   "metadata": {},
   "source": [
    "The third OLS model predicts revenue from vote count and budget and runtime, even though runtime is not as highly correlated with revenue. The R-squared value does not improve."
   ]
  },
  {
   "cell_type": "code",
   "execution_count": null,
   "metadata": {},
   "outputs": [],
   "source": [
    "ols_model3 = smf.ols('revenue ~ vote_count + budget + runtime', data=movies_top_30_series_df)\n",
    "ols_model3.fit().summary()"
   ]
  },
  {
   "cell_type": "markdown",
   "metadata": {},
   "source": [
    "The fourth OLS model predicts revenue from vote count and budget and runtime and vote average, even though runtime and vote average are not highly correlated with revenue. The R-squared value does not improve by much at all."
   ]
  },
  {
   "cell_type": "code",
   "execution_count": null,
   "metadata": {},
   "outputs": [],
   "source": [
    "ols_model4 = smf.ols('revenue ~ vote_count + budget + runtime + vote_average', data=movies_top_30_series_df)\n",
    "ols_model4.fit().summary()"
   ]
  },
  {
   "cell_type": "markdown",
   "metadata": {},
   "source": [
    "Conclusions: Based on these models, we can see that vote count and budget are the factors most correlated with movie revenue."
   ]
  },
  {
   "cell_type": "code",
   "execution_count": null,
   "metadata": {},
   "outputs": [],
   "source": []
  },
  {
   "cell_type": "code",
   "execution_count": null,
   "metadata": {},
   "outputs": [],
   "source": []
  },
  {
   "cell_type": "code",
   "execution_count": null,
   "metadata": {},
   "outputs": [],
   "source": []
  },
  {
   "cell_type": "code",
   "execution_count": null,
   "metadata": {},
   "outputs": [],
   "source": []
  },
  {
   "cell_type": "code",
   "execution_count": null,
   "metadata": {},
   "outputs": [],
   "source": []
  }
 ],
 "metadata": {
  "kernelspec": {
   "display_name": "Python 3",
   "language": "python",
   "name": "python3"
  },
  "language_info": {
   "codemirror_mode": {
    "name": "ipython",
    "version": 3
   },
   "file_extension": ".py",
   "mimetype": "text/x-python",
   "name": "python",
   "nbconvert_exporter": "python",
   "pygments_lexer": "ipython3",
   "version": "3.6.4"
  }
 },
 "nbformat": 4,
 "nbformat_minor": 2
}
